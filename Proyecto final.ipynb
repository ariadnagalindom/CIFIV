{
 "cells": [
  {
   "cell_type": "code",
   "execution_count": 9,
   "metadata": {},
   "outputs": [],
   "source": [
    "import pandas as pd\n",
    "from mylib import mylib \n",
    "import numpy as np\n",
    "import matplotlib.pyplot as plt\n",
    "import seaborn as sns\n",
    "%matplotlib inline"
   ]
  },
  {
   "cell_type": "code",
   "execution_count": 3,
   "metadata": {},
   "outputs": [
    {
     "data": {
      "text/html": [
       "<div>\n",
       "<style scoped>\n",
       "    .dataframe tbody tr th:only-of-type {\n",
       "        vertical-align: middle;\n",
       "    }\n",
       "\n",
       "    .dataframe tbody tr th {\n",
       "        vertical-align: top;\n",
       "    }\n",
       "\n",
       "    .dataframe thead th {\n",
       "        text-align: right;\n",
       "    }\n",
       "</style>\n",
       "<table border=\"1\" class=\"dataframe\">\n",
       "  <thead>\n",
       "    <tr style=\"text-align: right;\">\n",
       "      <th></th>\n",
       "      <th>Year</th>\n",
       "      <th>LoB</th>\n",
       "      <th>Segment</th>\n",
       "      <th>Iot_Name</th>\n",
       "      <th>Imt_Name</th>\n",
       "      <th>Country</th>\n",
       "      <th>Customer_number</th>\n",
       "      <th>Cust__</th>\n",
       "      <th>Work__</th>\n",
       "      <th>Quarter</th>\n",
       "      <th>...</th>\n",
       "      <th>ORDERNUM</th>\n",
       "      <th>Pillar</th>\n",
       "      <th>Leru</th>\n",
       "      <th>Bmdiv</th>\n",
       "      <th>Ctrynum</th>\n",
       "      <th>SegCalc</th>\n",
       "      <th>SRC</th>\n",
       "      <th>Maj</th>\n",
       "      <th>Minor</th>\n",
       "      <th>Segmentation Offering</th>\n",
       "    </tr>\n",
       "  </thead>\n",
       "  <tbody>\n",
       "    <tr>\n",
       "      <th>0</th>\n",
       "      <td>2019</td>\n",
       "      <td>Lab Services</td>\n",
       "      <td>Healthcare</td>\n",
       "      <td>ASIA PACIFIC</td>\n",
       "      <td>ASEAN GMT</td>\n",
       "      <td>PHILIPPINES</td>\n",
       "      <td>C0001</td>\n",
       "      <td>NaN</td>\n",
       "      <td>NaN</td>\n",
       "      <td>3Q</td>\n",
       "      <td>...</td>\n",
       "      <td>NaN</td>\n",
       "      <td>NaN</td>\n",
       "      <td>NaN</td>\n",
       "      <td>M9</td>\n",
       "      <td>818</td>\n",
       "      <td>M90</td>\n",
       "      <td>NaN</td>\n",
       "      <td>457</td>\n",
       "      <td>400</td>\n",
       "      <td>Truven simpler</td>\n",
       "    </tr>\n",
       "    <tr>\n",
       "      <th>1</th>\n",
       "      <td>2019</td>\n",
       "      <td>Lab Services</td>\n",
       "      <td>Healthcare</td>\n",
       "      <td>ASIA PACIFIC</td>\n",
       "      <td>ASEAN GMT</td>\n",
       "      <td>PHILIPPINES</td>\n",
       "      <td>C0001</td>\n",
       "      <td>NaN</td>\n",
       "      <td>NaN</td>\n",
       "      <td>3Q</td>\n",
       "      <td>...</td>\n",
       "      <td>NaN</td>\n",
       "      <td>NaN</td>\n",
       "      <td>000</td>\n",
       "      <td>M9</td>\n",
       "      <td>818</td>\n",
       "      <td>000M90</td>\n",
       "      <td>960.0</td>\n",
       "      <td>457</td>\n",
       "      <td>400</td>\n",
       "      <td>Oncology &amp; Genomics</td>\n",
       "    </tr>\n",
       "    <tr>\n",
       "      <th>2</th>\n",
       "      <td>2019</td>\n",
       "      <td>SaaS</td>\n",
       "      <td>Healthcare</td>\n",
       "      <td>ASIA PACIFIC</td>\n",
       "      <td>ASEAN GMT</td>\n",
       "      <td>SINGAPORE</td>\n",
       "      <td>C0002</td>\n",
       "      <td>855132</td>\n",
       "      <td>SGG4068</td>\n",
       "      <td>3Q</td>\n",
       "      <td>...</td>\n",
       "      <td>NaN</td>\n",
       "      <td>M9TOP</td>\n",
       "      <td>000</td>\n",
       "      <td>M9</td>\n",
       "      <td>834</td>\n",
       "      <td>69SW-D17</td>\n",
       "      <td>480.0</td>\n",
       "      <td>462</td>\n",
       "      <td>302</td>\n",
       "      <td>Oncology &amp; Genomics</td>\n",
       "    </tr>\n",
       "    <tr>\n",
       "      <th>3</th>\n",
       "      <td>2019</td>\n",
       "      <td>SaaS Services</td>\n",
       "      <td>Healthcare</td>\n",
       "      <td>ASIA PACIFIC</td>\n",
       "      <td>ASEAN GMT</td>\n",
       "      <td>SINGAPORE</td>\n",
       "      <td>C0002</td>\n",
       "      <td>855132</td>\n",
       "      <td>SGG4068</td>\n",
       "      <td>3Q</td>\n",
       "      <td>...</td>\n",
       "      <td>NaN</td>\n",
       "      <td>M9TOP</td>\n",
       "      <td>000</td>\n",
       "      <td>M9</td>\n",
       "      <td>834</td>\n",
       "      <td>69SW-D17</td>\n",
       "      <td>480.0</td>\n",
       "      <td>462</td>\n",
       "      <td>303</td>\n",
       "      <td>Oncology &amp; Genomics</td>\n",
       "    </tr>\n",
       "    <tr>\n",
       "      <th>4</th>\n",
       "      <td>2019</td>\n",
       "      <td>SaaS Services</td>\n",
       "      <td>Healthcare</td>\n",
       "      <td>ASIA PACIFIC</td>\n",
       "      <td>ASEAN GMT</td>\n",
       "      <td>SINGAPORE</td>\n",
       "      <td>C0001</td>\n",
       "      <td>NaN</td>\n",
       "      <td>NaN</td>\n",
       "      <td>3Q</td>\n",
       "      <td>...</td>\n",
       "      <td>NaN</td>\n",
       "      <td>NaN</td>\n",
       "      <td>000</td>\n",
       "      <td>M9</td>\n",
       "      <td>834</td>\n",
       "      <td>000M93</td>\n",
       "      <td>960.0</td>\n",
       "      <td>462</td>\n",
       "      <td>303</td>\n",
       "      <td>Oncology &amp; Genomics</td>\n",
       "    </tr>\n",
       "  </tbody>\n",
       "</table>\n",
       "<p>5 rows × 30 columns</p>\n",
       "</div>"
      ],
      "text/plain": [
       "   Year            LoB     Segment      Iot_Name   Imt_Name      Country  \\\n",
       "0  2019   Lab Services  Healthcare  ASIA PACIFIC  ASEAN GMT  PHILIPPINES   \n",
       "1  2019   Lab Services  Healthcare  ASIA PACIFIC  ASEAN GMT  PHILIPPINES   \n",
       "2  2019           SaaS  Healthcare  ASIA PACIFIC  ASEAN GMT    SINGAPORE   \n",
       "3  2019  SaaS Services  Healthcare  ASIA PACIFIC  ASEAN GMT    SINGAPORE   \n",
       "4  2019  SaaS Services  Healthcare  ASIA PACIFIC  ASEAN GMT    SINGAPORE   \n",
       "\n",
       "  Customer_number  Cust__   Work__ Quarter  ...  ORDERNUM  Pillar Leru Bmdiv  \\\n",
       "0           C0001     NaN      NaN      3Q  ...       NaN     NaN  NaN    M9   \n",
       "1           C0001     NaN      NaN      3Q  ...       NaN     NaN  000    M9   \n",
       "2           C0002  855132  SGG4068      3Q  ...       NaN   M9TOP  000    M9   \n",
       "3           C0002  855132  SGG4068      3Q  ...       NaN   M9TOP  000    M9   \n",
       "4           C0001     NaN      NaN      3Q  ...       NaN     NaN  000    M9   \n",
       "\n",
       "   Ctrynum   SegCalc    SRC  Maj Minor Segmentation Offering  \n",
       "0      818       M90    NaN  457   400        Truven simpler  \n",
       "1      818    000M90  960.0  457   400   Oncology & Genomics  \n",
       "2      834  69SW-D17  480.0  462   302   Oncology & Genomics  \n",
       "3      834  69SW-D17  480.0  462   303   Oncology & Genomics  \n",
       "4      834    000M93  960.0  462   303   Oncology & Genomics  \n",
       "\n",
       "[5 rows x 30 columns]"
      ]
     },
     "execution_count": 3,
     "metadata": {},
     "output_type": "execute_result"
    }
   ],
   "source": [
    "#importamos base de datos \n",
    "data= pd.read_excel('file:///C:/Users/Ariadna/Desktop/CIFIV/Copia de M9 M2 AIW segmentation September WD4 - Oscar(2091).xlsx', \n",
    "                    sheet_name= 'Raw data 8XX')\n",
    "#removemos columnas vacias \n",
    "data.drop(data.iloc[:, 30:], inplace = True, axis = 1)\n",
    "data.head()"
   ]
  },
  {
   "cell_type": "code",
   "execution_count": 84,
   "metadata": {},
   "outputs": [
    {
     "name": "stdout",
     "output_type": "stream",
     "text": [
      "<class 'pandas.core.frame.DataFrame'>\n",
      "RangeIndex: 620 entries, 0 to 619\n",
      "Data columns (total 30 columns):\n",
      "Year                     620 non-null int64\n",
      "LoB                      608 non-null object\n",
      "Segment                  620 non-null object\n",
      "Iot_Name                 620 non-null object\n",
      "Imt_Name                 620 non-null object\n",
      "Country                  620 non-null object\n",
      "Customer_number          620 non-null object\n",
      "Cust__                   406 non-null object\n",
      "Work__                   407 non-null object\n",
      "Quarter                  620 non-null object\n",
      "Month                    620 non-null int64\n",
      "Cost                     620 non-null int64\n",
      "OCC                      620 non-null object\n",
      "OCC_Desc                 620 non-null object\n",
      "Major_Minor              620 non-null int64\n",
      "Contract_Num             417 non-null object\n",
      "LC                       496 non-null object\n",
      "PRODID                   106 non-null object\n",
      "FAMILY                   98 non-null object\n",
      "LDIV                     497 non-null object\n",
      "ORDERNUM                 23 non-null object\n",
      "Pillar                   98 non-null object\n",
      "Leru                     414 non-null object\n",
      "Bmdiv                    620 non-null object\n",
      "Ctrynum                  620 non-null int64\n",
      "SegCalc                  620 non-null object\n",
      "SRC                      464 non-null float64\n",
      "Maj                      620 non-null int64\n",
      "Minor                    620 non-null int64\n",
      "Segmentation Offering    620 non-null object\n",
      "dtypes: float64(1), int64(7), object(22)\n",
      "memory usage: 145.4+ KB\n"
     ]
    }
   ],
   "source": [
    "data.info()"
   ]
  },
  {
   "cell_type": "code",
   "execution_count": 88,
   "metadata": {},
   "outputs": [
    {
     "data": {
      "text/html": [
       "<div>\n",
       "<style scoped>\n",
       "    .dataframe tbody tr th:only-of-type {\n",
       "        vertical-align: middle;\n",
       "    }\n",
       "\n",
       "    .dataframe tbody tr th {\n",
       "        vertical-align: top;\n",
       "    }\n",
       "\n",
       "    .dataframe thead th {\n",
       "        text-align: right;\n",
       "    }\n",
       "</style>\n",
       "<table border=\"1\" class=\"dataframe\">\n",
       "  <thead>\n",
       "    <tr style=\"text-align: right;\">\n",
       "      <th></th>\n",
       "      <th>Year</th>\n",
       "      <th>Month</th>\n",
       "      <th>Cost</th>\n",
       "      <th>Major_Minor</th>\n",
       "      <th>Ctrynum</th>\n",
       "      <th>SRC</th>\n",
       "      <th>Maj</th>\n",
       "      <th>Minor</th>\n",
       "    </tr>\n",
       "  </thead>\n",
       "  <tbody>\n",
       "    <tr>\n",
       "      <th>count</th>\n",
       "      <td>620.0</td>\n",
       "      <td>620.0</td>\n",
       "      <td>620.000000</td>\n",
       "      <td>6.200000e+02</td>\n",
       "      <td>620.000000</td>\n",
       "      <td>464.000000</td>\n",
       "      <td>620.000000</td>\n",
       "      <td>620.000000</td>\n",
       "    </tr>\n",
       "    <tr>\n",
       "      <th>mean</th>\n",
       "      <td>2019.0</td>\n",
       "      <td>9.0</td>\n",
       "      <td>-104.306452</td>\n",
       "      <td>4.592156e+06</td>\n",
       "      <td>822.333871</td>\n",
       "      <td>452.299569</td>\n",
       "      <td>459.182258</td>\n",
       "      <td>333.819355</td>\n",
       "    </tr>\n",
       "    <tr>\n",
       "      <th>std</th>\n",
       "      <td>0.0</td>\n",
       "      <td>0.0</td>\n",
       "      <td>5761.292998</td>\n",
       "      <td>4.946190e+04</td>\n",
       "      <td>114.860623</td>\n",
       "      <td>243.513099</td>\n",
       "      <td>4.949569</td>\n",
       "      <td>94.474174</td>\n",
       "    </tr>\n",
       "    <tr>\n",
       "      <th>min</th>\n",
       "      <td>2019.0</td>\n",
       "      <td>9.0</td>\n",
       "      <td>-9977.000000</td>\n",
       "      <td>4.270925e+06</td>\n",
       "      <td>150.000000</td>\n",
       "      <td>40.000000</td>\n",
       "      <td>427.000000</td>\n",
       "      <td>100.000000</td>\n",
       "    </tr>\n",
       "    <tr>\n",
       "      <th>25%</th>\n",
       "      <td>2019.0</td>\n",
       "      <td>9.0</td>\n",
       "      <td>-4865.500000</td>\n",
       "      <td>4.570300e+06</td>\n",
       "      <td>755.000000</td>\n",
       "      <td>368.000000</td>\n",
       "      <td>457.000000</td>\n",
       "      <td>300.750000</td>\n",
       "    </tr>\n",
       "    <tr>\n",
       "      <th>50%</th>\n",
       "      <td>2019.0</td>\n",
       "      <td>9.0</td>\n",
       "      <td>-365.500000</td>\n",
       "      <td>4.620301e+06</td>\n",
       "      <td>866.000000</td>\n",
       "      <td>368.000000</td>\n",
       "      <td>462.000000</td>\n",
       "      <td>303.000000</td>\n",
       "    </tr>\n",
       "    <tr>\n",
       "      <th>75%</th>\n",
       "      <td>2019.0</td>\n",
       "      <td>9.0</td>\n",
       "      <td>4797.750000</td>\n",
       "      <td>4.620303e+06</td>\n",
       "      <td>912.000000</td>\n",
       "      <td>690.000000</td>\n",
       "      <td>462.000000</td>\n",
       "      <td>305.000000</td>\n",
       "    </tr>\n",
       "    <tr>\n",
       "      <th>max</th>\n",
       "      <td>2019.0</td>\n",
       "      <td>9.0</td>\n",
       "      <td>9965.000000</td>\n",
       "      <td>4.620925e+06</td>\n",
       "      <td>912.000000</td>\n",
       "      <td>994.000000</td>\n",
       "      <td>462.000000</td>\n",
       "      <td>925.000000</td>\n",
       "    </tr>\n",
       "  </tbody>\n",
       "</table>\n",
       "</div>"
      ],
      "text/plain": [
       "         Year  Month         Cost   Major_Minor     Ctrynum         SRC  \\\n",
       "count   620.0  620.0   620.000000  6.200000e+02  620.000000  464.000000   \n",
       "mean   2019.0    9.0  -104.306452  4.592156e+06  822.333871  452.299569   \n",
       "std       0.0    0.0  5761.292998  4.946190e+04  114.860623  243.513099   \n",
       "min    2019.0    9.0 -9977.000000  4.270925e+06  150.000000   40.000000   \n",
       "25%    2019.0    9.0 -4865.500000  4.570300e+06  755.000000  368.000000   \n",
       "50%    2019.0    9.0  -365.500000  4.620301e+06  866.000000  368.000000   \n",
       "75%    2019.0    9.0  4797.750000  4.620303e+06  912.000000  690.000000   \n",
       "max    2019.0    9.0  9965.000000  4.620925e+06  912.000000  994.000000   \n",
       "\n",
       "              Maj       Minor  \n",
       "count  620.000000  620.000000  \n",
       "mean   459.182258  333.819355  \n",
       "std      4.949569   94.474174  \n",
       "min    427.000000  100.000000  \n",
       "25%    457.000000  300.750000  \n",
       "50%    462.000000  303.000000  \n",
       "75%    462.000000  305.000000  \n",
       "max    462.000000  925.000000  "
      ]
     },
     "execution_count": 88,
     "metadata": {},
     "output_type": "execute_result"
    }
   ],
   "source": [
    "data.describe()"
   ]
  },
  {
   "cell_type": "markdown",
   "metadata": {},
   "source": [
    "Solo podemos analizar datos cuantitativos, pero no todos nos sirven por el tipo de dato que son. "
   ]
  },
  {
   "cell_type": "code",
   "execution_count": 6,
   "metadata": {},
   "outputs": [
    {
     "data": {
      "text/html": [
       "<div>\n",
       "<style scoped>\n",
       "    .dataframe tbody tr th:only-of-type {\n",
       "        vertical-align: middle;\n",
       "    }\n",
       "\n",
       "    .dataframe tbody tr th {\n",
       "        vertical-align: top;\n",
       "    }\n",
       "\n",
       "    .dataframe thead th {\n",
       "        text-align: right;\n",
       "    }\n",
       "</style>\n",
       "<table border=\"1\" class=\"dataframe\">\n",
       "  <thead>\n",
       "    <tr style=\"text-align: right;\">\n",
       "      <th></th>\n",
       "      <th>A</th>\n",
       "      <th>B</th>\n",
       "      <th>C</th>\n",
       "    </tr>\n",
       "  </thead>\n",
       "  <tbody>\n",
       "    <tr>\n",
       "      <th>2</th>\n",
       "      <td>Leru</td>\n",
       "      <td>CLOEPL</td>\n",
       "      <td>Explorys</td>\n",
       "    </tr>\n",
       "    <tr>\n",
       "      <th>3</th>\n",
       "      <td>Leru</td>\n",
       "      <td>CLOPHY</td>\n",
       "      <td>Phytel</td>\n",
       "    </tr>\n",
       "    <tr>\n",
       "      <th>4</th>\n",
       "      <td>Leru</td>\n",
       "      <td>KIL</td>\n",
       "      <td>Explorys</td>\n",
       "    </tr>\n",
       "    <tr>\n",
       "      <th>5</th>\n",
       "      <td>Leru</td>\n",
       "      <td>KK9</td>\n",
       "      <td>Phytel</td>\n",
       "    </tr>\n",
       "    <tr>\n",
       "      <th>6</th>\n",
       "      <td>Leru</td>\n",
       "      <td>KOI</td>\n",
       "      <td>Explorys</td>\n",
       "    </tr>\n",
       "  </tbody>\n",
       "</table>\n",
       "</div>"
      ],
      "text/plain": [
       "      A       B         C\n",
       "2  Leru  CLOEPL  Explorys\n",
       "3  Leru  CLOPHY    Phytel\n",
       "4  Leru     KIL  Explorys\n",
       "5  Leru     KK9    Phytel\n",
       "6  Leru     KOI  Explorys"
      ]
     },
     "execution_count": 6,
     "metadata": {},
     "output_type": "execute_result"
    }
   ],
   "source": [
    "#importamos los parámetros \n",
    "parametros= pd.read_excel('file:///C:/Users/Ariadna/Desktop/CIFIV/Copia de M9 M2 AIW segmentation September WD4 - Oscar(2091).xlsx', \n",
    "                    sheet_name= 'Parametros')\n",
    "#removemos datos vacios\n",
    "parametros = parametros.iloc[2:,:3]\n",
    "#renombramos las columnas\n",
    "parametros=parametros.rename(columns={\"Esta Sección se lee así… si A = B entonces C.\":'A',\n",
    "                                      \"Unnamed: 1\":'B',\n",
    "                                      \"Unnamed: 2\":'C'})\n",
    "parametros.head()"
   ]
  },
  {
   "cell_type": "markdown",
   "metadata": {},
   "source": [
    "### **Missing Data**"
   ]
  },
  {
   "cell_type": "code",
   "execution_count": 13,
   "metadata": {},
   "outputs": [
    {
     "data": {
      "text/plain": [
       "<matplotlib.axes._subplots.AxesSubplot at 0x18d9994a240>"
      ]
     },
     "execution_count": 13,
     "metadata": {},
     "output_type": "execute_result"
    },
    {
     "data": {
      "image/png": "[encoded data removed]",
      "text/plain": [
       "<Figure size 432x288 with 1 Axes>"
      ]
     },
     "metadata": {
      "needs_background": "light"
     },
     "output_type": "display_data"
    }
   ],
   "source": [
    "sns.heatmap(data.isnull(),yticklabels=False, cbar=False,cmap='viridis')"
   ]
  },
  {
   "cell_type": "code",
   "execution_count": 74,
   "metadata": {},
   "outputs": [],
   "source": [
    "drop_columns= ['Year', 'Imt_Name', 'Iot_Name', 'Country', 'SRC', 'Segment', 'Quarter', \n",
    "               'FAMILY', 'Month', 'OCC', 'Major_Minor', 'Maj', 'Minor', 'Year', 'Segment']\n",
    "datan=data.drop(drop_columns,axis=1)"
   ]
  },
  {
   "cell_type": "code",
   "execution_count": 41,
   "metadata": {},
   "outputs": [
    {
     "data": {
      "text/plain": [
       "<matplotlib.axes._subplots.AxesSubplot at 0x18d9a709240>"
      ]
     },
     "execution_count": 41,
     "metadata": {},
     "output_type": "execute_result"
    },
    {
     "data": {
      "image/png": "[encoded data removed]",
      "text/plain": [
       "<Figure size 432x288 with 1 Axes>"
      ]
     },
     "metadata": {},
     "output_type": "display_data"
    }
   ],
   "source": [
    "sns.set()\n",
    "sns.set_style('whitegrid')\n",
    "sns.countplot(x='LoB',data=data, palette=\"pastel\")"
   ]
  },
  {
   "cell_type": "code",
   "execution_count": 59,
   "metadata": {},
   "outputs": [
    {
     "data": {
      "text/plain": [
       "<matplotlib.axes._subplots.AxesSubplot at 0x18d9a10d5f8>"
      ]
     },
     "execution_count": 59,
     "metadata": {},
     "output_type": "execute_result"
    },
    {
     "data": {
      "image/png": "[encoded data removed]",
      "text/plain": [
       "<Figure size 432x288 with 1 Axes>"
      ]
     },
     "metadata": {},
     "output_type": "display_data"
    }
   ],
   "source": [
    "sns.countplot(x='Segmentation Offering',data=data,palette=\"pastel\")"
   ]
  },
  {
   "cell_type": "code",
   "execution_count": 116,
   "metadata": {},
   "outputs": [
    {
     "ename": "IndexError",
     "evalue": "index -1 is out of bounds for axis 0 with size 0",
     "output_type": "error",
     "traceback": [
      "\u001b[1;31m---------------------------------------------------------------------------\u001b[0m",
      "\u001b[1;31mIndexError\u001b[0m                                Traceback (most recent call last)",
      "\u001b[1;32m<ipython-input-116-26a25f4ac517>\u001b[0m in \u001b[0;36m<module>\u001b[1;34m\u001b[0m\n\u001b[0;32m      1\u001b[0m \u001b[0msns\u001b[0m\u001b[1;33m.\u001b[0m\u001b[0mset\u001b[0m\u001b[1;33m(\u001b[0m\u001b[1;33m)\u001b[0m\u001b[1;33m\u001b[0m\u001b[1;33m\u001b[0m\u001b[0m\n\u001b[0;32m      2\u001b[0m \u001b[0msns\u001b[0m\u001b[1;33m.\u001b[0m\u001b[0mset_style\u001b[0m\u001b[1;33m(\u001b[0m\u001b[1;34m'whitegrid'\u001b[0m\u001b[1;33m)\u001b[0m\u001b[1;33m\u001b[0m\u001b[1;33m\u001b[0m\u001b[0m\n\u001b[1;32m----> 3\u001b[1;33m \u001b[0msns\u001b[0m\u001b[1;33m.\u001b[0m\u001b[0mpairplot\u001b[0m\u001b[1;33m(\u001b[0m\u001b[0mparametros\u001b[0m\u001b[1;33m,\u001b[0m\u001b[0mhue\u001b[0m\u001b[1;33m=\u001b[0m\u001b[1;34m'C'\u001b[0m\u001b[1;33m,\u001b[0m \u001b[0mpalette\u001b[0m\u001b[1;33m=\u001b[0m\u001b[1;34m\"autumn\"\u001b[0m\u001b[1;33m,\u001b[0m \u001b[1;33m)\u001b[0m\u001b[1;33m\u001b[0m\u001b[1;33m\u001b[0m\u001b[0m\n\u001b[0m",
      "\u001b[1;32m~\\Anaconda3\\lib\\site-packages\\seaborn\\axisgrid.py\u001b[0m in \u001b[0;36mpairplot\u001b[1;34m(data, hue, hue_order, palette, vars, x_vars, y_vars, kind, diag_kind, markers, height, aspect, dropna, plot_kws, diag_kws, grid_kws, size)\u001b[0m\n\u001b[0;32m   2082\u001b[0m                     \u001b[0mhue_order\u001b[0m\u001b[1;33m=\u001b[0m\u001b[0mhue_order\u001b[0m\u001b[1;33m,\u001b[0m \u001b[0mpalette\u001b[0m\u001b[1;33m=\u001b[0m\u001b[0mpalette\u001b[0m\u001b[1;33m,\u001b[0m\u001b[1;33m\u001b[0m\u001b[1;33m\u001b[0m\u001b[0m\n\u001b[0;32m   2083\u001b[0m                     \u001b[0mdiag_sharey\u001b[0m\u001b[1;33m=\u001b[0m\u001b[0mdiag_sharey\u001b[0m\u001b[1;33m,\u001b[0m\u001b[1;33m\u001b[0m\u001b[1;33m\u001b[0m\u001b[0m\n\u001b[1;32m-> 2084\u001b[1;33m                     height=height, aspect=aspect, dropna=dropna, **grid_kws)\n\u001b[0m\u001b[0;32m   2085\u001b[0m \u001b[1;33m\u001b[0m\u001b[0m\n\u001b[0;32m   2086\u001b[0m     \u001b[1;31m# Add the markers here as PairGrid has figured out how many levels of the\u001b[0m\u001b[1;33m\u001b[0m\u001b[1;33m\u001b[0m\u001b[1;33m\u001b[0m\u001b[0m\n",
      "\u001b[1;32m~\\Anaconda3\\lib\\site-packages\\seaborn\\axisgrid.py\u001b[0m in \u001b[0;36m__init__\u001b[1;34m(self, data, hue, hue_order, palette, hue_kws, vars, x_vars, y_vars, diag_sharey, height, aspect, despine, dropna, size)\u001b[0m\n\u001b[0;32m   1279\u001b[0m \u001b[1;33m\u001b[0m\u001b[0m\n\u001b[0;32m   1280\u001b[0m         \u001b[1;31m# Label the axes\u001b[0m\u001b[1;33m\u001b[0m\u001b[1;33m\u001b[0m\u001b[1;33m\u001b[0m\u001b[0m\n\u001b[1;32m-> 1281\u001b[1;33m         \u001b[0mself\u001b[0m\u001b[1;33m.\u001b[0m\u001b[0m_add_axis_labels\u001b[0m\u001b[1;33m(\u001b[0m\u001b[1;33m)\u001b[0m\u001b[1;33m\u001b[0m\u001b[1;33m\u001b[0m\u001b[0m\n\u001b[0m\u001b[0;32m   1282\u001b[0m \u001b[1;33m\u001b[0m\u001b[0m\n\u001b[0;32m   1283\u001b[0m         \u001b[1;31m# Sort out the hue variable\u001b[0m\u001b[1;33m\u001b[0m\u001b[1;33m\u001b[0m\u001b[1;33m\u001b[0m\u001b[0m\n",
      "\u001b[1;32m~\\Anaconda3\\lib\\site-packages\\seaborn\\axisgrid.py\u001b[0m in \u001b[0;36m_add_axis_labels\u001b[1;34m(self)\u001b[0m\n\u001b[0;32m   1516\u001b[0m     \u001b[1;32mdef\u001b[0m \u001b[0m_add_axis_labels\u001b[0m\u001b[1;33m(\u001b[0m\u001b[0mself\u001b[0m\u001b[1;33m)\u001b[0m\u001b[1;33m:\u001b[0m\u001b[1;33m\u001b[0m\u001b[1;33m\u001b[0m\u001b[0m\n\u001b[0;32m   1517\u001b[0m         \u001b[1;34m\"\"\"Add labels to the left and bottom Axes.\"\"\"\u001b[0m\u001b[1;33m\u001b[0m\u001b[1;33m\u001b[0m\u001b[0m\n\u001b[1;32m-> 1518\u001b[1;33m         \u001b[1;32mfor\u001b[0m \u001b[0max\u001b[0m\u001b[1;33m,\u001b[0m \u001b[0mlabel\u001b[0m \u001b[1;32min\u001b[0m \u001b[0mzip\u001b[0m\u001b[1;33m(\u001b[0m\u001b[0mself\u001b[0m\u001b[1;33m.\u001b[0m\u001b[0maxes\u001b[0m\u001b[1;33m[\u001b[0m\u001b[1;33m-\u001b[0m\u001b[1;36m1\u001b[0m\u001b[1;33m,\u001b[0m \u001b[1;33m:\u001b[0m\u001b[1;33m]\u001b[0m\u001b[1;33m,\u001b[0m \u001b[0mself\u001b[0m\u001b[1;33m.\u001b[0m\u001b[0mx_vars\u001b[0m\u001b[1;33m)\u001b[0m\u001b[1;33m:\u001b[0m\u001b[1;33m\u001b[0m\u001b[1;33m\u001b[0m\u001b[0m\n\u001b[0m\u001b[0;32m   1519\u001b[0m             \u001b[0max\u001b[0m\u001b[1;33m.\u001b[0m\u001b[0mset_xlabel\u001b[0m\u001b[1;33m(\u001b[0m\u001b[0mlabel\u001b[0m\u001b[1;33m)\u001b[0m\u001b[1;33m\u001b[0m\u001b[1;33m\u001b[0m\u001b[0m\n\u001b[0;32m   1520\u001b[0m         \u001b[1;32mfor\u001b[0m \u001b[0max\u001b[0m\u001b[1;33m,\u001b[0m \u001b[0mlabel\u001b[0m \u001b[1;32min\u001b[0m \u001b[0mzip\u001b[0m\u001b[1;33m(\u001b[0m\u001b[0mself\u001b[0m\u001b[1;33m.\u001b[0m\u001b[0maxes\u001b[0m\u001b[1;33m[\u001b[0m\u001b[1;33m:\u001b[0m\u001b[1;33m,\u001b[0m \u001b[1;36m0\u001b[0m\u001b[1;33m]\u001b[0m\u001b[1;33m,\u001b[0m \u001b[0mself\u001b[0m\u001b[1;33m.\u001b[0m\u001b[0my_vars\u001b[0m\u001b[1;33m)\u001b[0m\u001b[1;33m:\u001b[0m\u001b[1;33m\u001b[0m\u001b[1;33m\u001b[0m\u001b[0m\n",
      "\u001b[1;31mIndexError\u001b[0m: index -1 is out of bounds for axis 0 with size 0"
     ]
    },
    {
     "data": {
      "text/plain": [
       "<Figure size 0x0 with 0 Axes>"
      ]
     },
     "metadata": {},
     "output_type": "display_data"
    }
   ],
   "source": [
    "sns.set()\n",
    "sns.set_style('whitegrid')\n",
    "sns.pairplot(parametros,hue='C', palette=\"autumn\", )"
   ]
  },
  {
   "cell_type": "code",
   "execution_count": 111,
   "metadata": {},
   "outputs": [
    {
     "ename": "TypeError",
     "evalue": "Cannot pass values for both `x` and `y`",
     "output_type": "error",
     "traceback": [
      "\u001b[1;31m---------------------------------------------------------------------------\u001b[0m",
      "\u001b[1;31mTypeError\u001b[0m                                 Traceback (most recent call last)",
      "\u001b[1;32m<ipython-input-111-074778cc3a2f>\u001b[0m in \u001b[0;36m<module>\u001b[1;34m\u001b[0m\n\u001b[0;32m      4\u001b[0m \u001b[1;33m\u001b[0m\u001b[0m\n\u001b[0;32m      5\u001b[0m \u001b[1;31m#reporte_pf= mylib.dqr(pf)\u001b[0m\u001b[1;33m\u001b[0m\u001b[1;33m\u001b[0m\u001b[1;33m\u001b[0m\u001b[0m\n\u001b[1;32m----> 6\u001b[1;33m \u001b[0msns\u001b[0m\u001b[1;33m.\u001b[0m\u001b[0mcountplot\u001b[0m\u001b[1;33m(\u001b[0m\u001b[0mx\u001b[0m\u001b[1;33m=\u001b[0m\u001b[1;34m'pillar'\u001b[0m\u001b[1;33m,\u001b[0m \u001b[0my\u001b[0m\u001b[1;33m=\u001b[0m\u001b[1;34m'family'\u001b[0m\u001b[1;33m,\u001b[0m \u001b[0mdata\u001b[0m\u001b[1;33m=\u001b[0m \u001b[0mpf\u001b[0m\u001b[1;33m,\u001b[0m \u001b[0mpalette\u001b[0m\u001b[1;33m=\u001b[0m\u001b[1;34m'pastel'\u001b[0m\u001b[1;33m)\u001b[0m\u001b[1;33m\u001b[0m\u001b[1;33m\u001b[0m\u001b[0m\n\u001b[0m",
      "\u001b[1;32m~\\Anaconda3\\lib\\site-packages\\seaborn\\categorical.py\u001b[0m in \u001b[0;36mcountplot\u001b[1;34m(x, y, hue, data, order, hue_order, orient, color, palette, saturation, dodge, ax, **kwargs)\u001b[0m\n\u001b[0;32m   3544\u001b[0m         \u001b[0my\u001b[0m \u001b[1;33m=\u001b[0m \u001b[0mx\u001b[0m\u001b[1;33m\u001b[0m\u001b[1;33m\u001b[0m\u001b[0m\n\u001b[0;32m   3545\u001b[0m     \u001b[1;32melif\u001b[0m \u001b[0mx\u001b[0m \u001b[1;32mis\u001b[0m \u001b[1;32mnot\u001b[0m \u001b[1;32mNone\u001b[0m \u001b[1;32mand\u001b[0m \u001b[0my\u001b[0m \u001b[1;32mis\u001b[0m \u001b[1;32mnot\u001b[0m \u001b[1;32mNone\u001b[0m\u001b[1;33m:\u001b[0m\u001b[1;33m\u001b[0m\u001b[1;33m\u001b[0m\u001b[0m\n\u001b[1;32m-> 3546\u001b[1;33m         \u001b[1;32mraise\u001b[0m \u001b[0mTypeError\u001b[0m\u001b[1;33m(\u001b[0m\u001b[1;34m\"Cannot pass values for both `x` and `y`\"\u001b[0m\u001b[1;33m)\u001b[0m\u001b[1;33m\u001b[0m\u001b[1;33m\u001b[0m\u001b[0m\n\u001b[0m\u001b[0;32m   3547\u001b[0m     \u001b[1;32melse\u001b[0m\u001b[1;33m:\u001b[0m\u001b[1;33m\u001b[0m\u001b[1;33m\u001b[0m\u001b[0m\n\u001b[0;32m   3548\u001b[0m         \u001b[1;32mraise\u001b[0m \u001b[0mTypeError\u001b[0m\u001b[1;33m(\u001b[0m\u001b[1;34m\"Must pass values for either `x` or `y`\"\u001b[0m\u001b[1;33m)\u001b[0m\u001b[1;33m\u001b[0m\u001b[1;33m\u001b[0m\u001b[0m\n",
      "\u001b[1;31mTypeError\u001b[0m: Cannot pass values for both `x` and `y`"
     ]
    }
   ],
   "source": [
    "pf= pd.DataFrame()\n",
    "pf['pillar']=data.Pillar\n",
    "pf['family']= data.FAMILY#TRUVENM8 \n",
    "\n",
    "#reporte_pf= mylib.dqr(pf)\n",
    "sns.countplot(x='pillar', y='family', data= pf, palette='pastel')"
   ]
  }
 ],
 "metadata": {
  "kernelspec": {
   "display_name": "Python 3",
   "language": "python",
   "name": "python3"
  },
  "language_info": {
   "codemirror_mode": {
    "name": "ipython",
    "version": 3
   },
   "file_extension": ".py",
   "mimetype": "text/x-python",
   "name": "python",
   "nbconvert_exporter": "python",
   "pygments_lexer": "ipython3",
   "version": "3.7.3"
  }
 },
 "nbformat": 4,
 "nbformat_minor": 2
}
